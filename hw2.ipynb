{
 "cells": [
  {
   "cell_type": "code",
   "execution_count": 15,
   "id": "b8e8a796-ca2a-4da9-9588-4a53f669664f",
   "metadata": {},
   "outputs": [],
   "source": [
    "# loading required libreries and data\n",
    "from sklearn.datasets import load_diabetes\n",
    "import pandas as pd\n",
    "from statistics import mean\n",
    "import numpy as np"
   ]
  },
  {
   "cell_type": "code",
   "execution_count": 16,
   "id": "0d88d86d-d0e1-4d8e-a19b-5b558c009a01",
   "metadata": {},
   "outputs": [],
   "source": [
    "# ___________No. 1____________________\n",
    "\n",
    "# defining function\n",
    "\n",
    "\n",
    "def LocalAvg(Y, X, tgrid, bw):\n",
    "    lower = tgrid - bw\n",
    "    upper = tgrid + bw\n",
    "\n",
    "    # empty array for holding means\n",
    "    mean_holder = np.array([])\n",
    "\n",
    "    # calculating the means\n",
    "    for i in range(len(tgrid)):\n",
    "        x2 = np.logical_and(X > lower[i], X < upper[i])\n",
    "        y2 = Y[x2]\n",
    "\n",
    "        found_y = np.size(y2)\n",
    "\n",
    "        if found_y:\n",
    "            mean_holder = np.append(mean_holder, np.mean(y2))\n",
    "        else:\n",
    "            mean_holder = np.append(mean_holder, 0)\n",
    "    return (mean_holder)"
   ]
  },
  {
   "cell_type": "code",
   "execution_count": 11,
   "id": "9a9383a0-4545-4d56-a18c-95c4d7868616",
   "metadata": {},
   "outputs": [
    {
     "name": "stdout",
     "output_type": "stream",
     "text": [
      "[9.5 4.5 0. ]\n"
     ]
    }
   ],
   "source": [
    "# testing with examples\n",
    "Y = np.array([3, 7, 12, 1, 8, 17])\n",
    "X = np.array([0, 1, 2, 3, 4, 5])\n",
    "tgrid = np.array([1.5, 3.5, 10.5])\n",
    "bw = 1.0\n",
    "print(LocalAvg(Y=Y, X=X, tgrid=tgrid, bw=bw))"
   ]
  },
  {
   "cell_type": "code",
   "execution_count": 12,
   "id": "dec5d848-51f4-459f-945c-c7154531a796",
   "metadata": {},
   "outputs": [
    {
     "name": "stdout",
     "output_type": "stream",
     "text": [
      "[ 0.  0. 23.  0.]\n",
      "[ 9.5  4.5 23.   0. ]\n",
      "[ 9.5  4.5 23.   0. ]\n",
      "[12.125 12.125 12.125 12.125]\n",
      "[12.]\n"
     ]
    }
   ],
   "source": [
    "Y = np.array([3, 7, 12, 1, 8, 17, 23, 26])\n",
    "X = np.arange(8)\n",
    "tgrid = np.array([1.5, 3.5, 6.0, 11.0])\n",
    "print(LocalAvg(Y=Y, X=X, tgrid=tgrid, bw=0.1))\n",
    "print(LocalAvg(Y=Y, X=X, tgrid=tgrid, bw=0.6))\n",
    "print(LocalAvg(Y=Y, X=X, tgrid=tgrid, bw=1.0))\n",
    "print(LocalAvg(Y=Y, X=X, tgrid=tgrid, bw=12.0))\n",
    "print(LocalAvg(Y=Y, X=X, tgrid=np.array([2.0]), bw=1.0))"
   ]
  },
  {
   "cell_type": "code",
   "execution_count": 4,
   "id": "3ce7e781-ea52-45d0-ae70-2cbc2c609a80",
   "metadata": {},
   "outputs": [],
   "source": [
    "# _____________No. 2___________________________\n",
    "\n",
    "# loading diabetes data\n",
    "diabet = load_diabetes()\n",
    "num_diabet = diabet.data\n",
    "outcome = diabet.target\n",
    "var_names = diabet.feature_names"
   ]
  },
  {
   "cell_type": "code",
   "execution_count": 5,
   "id": "4e668ab2-65e7-49c9-b64a-8b5ab5e1f29f",
   "metadata": {},
   "outputs": [
    {
     "name": "stdout",
     "output_type": "stream",
     "text": [
      "Mean Outcome:  152.13348416289594\n",
      "Median Outcome:  140.5\n",
      "100 < outcome < 200:  167\n"
     ]
    }
   ],
   "source": [
    "# (a)\n",
    "print(\"Mean Outcome: \", np.mean(outcome))\n",
    "print(\"Median Outcome: \", np.median(outcome))\n",
    "print(\n",
    "    \"100 < outcome < 200: \",\n",
    "    np.count_nonzero(\n",
    "        np.logical_and(\n",
    "            outcome > 100,\n",
    "            outcome < 200)))"
   ]
  },
  {
   "cell_type": "code",
   "execution_count": 13,
   "id": "b67c0cc6-200e-4314-b3f2-2962e96e1e89",
   "metadata": {},
   "outputs": [
    {
     "name": "stdout",
     "output_type": "stream",
     "text": [
      "[-0.03729927  0.00538306  0.03807591]\n"
     ]
    }
   ],
   "source": [
    "# (b)\n",
    "data1 = pd.DataFrame(\n",
    "    data=np.c_[\n",
    "        diabet['data']],\n",
    "    columns=diabet['feature_names'])\n",
    "\n",
    "perc_age = np.percentile(data1.age, [25, 50, 75])\n",
    "print(perc_age)"
   ]
  },
  {
   "cell_type": "code",
   "execution_count": 7,
   "id": "e00d7371-32ca-43f9-94b9-84de027a2eb6",
   "metadata": {},
   "outputs": [],
   "source": [
    "# (c)\n",
    "age_category = np.array([])\n",
    "for i in range(len(data1.age)):\n",
    "    if data1.age[i] < perc_age[0]:\n",
    "        age_category = np.append(age_category, 0)\n",
    "    elif data1.age[i] >= perc_age[0] and data1.age[i] < perc_age[1]:\n",
    "        age_category = np.append(age_category, 1)\n",
    "    elif data1.age[i] >= perc_age[1] and data1.age[i] < perc_age[2]:\n",
    "        age_category = np.append(age_category, 2)\n",
    "    else:\n",
    "        age_category = np.append(age_category, 3)"
   ]
  },
  {
   "cell_type": "code",
   "execution_count": 8,
   "id": "d7f766c0-20c9-4ce9-b4db-41978cd336cf",
   "metadata": {},
   "outputs": [],
   "source": [
    "# (d)\n",
    "category_median = np.array([np.median(outcome[age_category == 0]),\n",
    "                            np.median(outcome[age_category == 1]),\n",
    "                            np.median(outcome[age_category == 2]),\n",
    "                            np.median(outcome[age_category == 3])])"
   ]
  },
  {
   "cell_type": "code",
   "execution_count": 9,
   "id": "d5fa2dcf-3911-4d62-a990-a367f0d56064",
   "metadata": {},
   "outputs": [
    {
     "data": {
      "text/plain": [
       "{'age': 0.11072667545381144,\n",
       " 'sex': 0.05068011873981862,\n",
       " 'bmi': 0.17055522598064407,\n",
       " 'bp': 0.13204361674121307,\n",
       " 's1': 0.15391371315651542,\n",
       " 's2': 0.19878798965729408,\n",
       " 's3': 0.18117906039727852,\n",
       " 's4': 0.18523444326019867,\n",
       " 's5': 0.13359728192191356,\n",
       " 's6': 0.13561183068907107}"
      ]
     },
     "execution_count": 9,
     "metadata": {},
     "output_type": "execute_result"
    }
   ],
   "source": [
    "# (e)\n",
    "dict(data1.max(axis=0))\n",
    "\n",
    "# When I wrote this code, only God and I understood what I did. Now only God knows.\n",
    "# ______________ THANK YOU ____________________"
   ]
  },
  {
   "cell_type": "code",
   "execution_count": null,
   "id": "f11fabb5-3271-46cd-be3d-744e5c6f8499",
   "metadata": {},
   "outputs": [],
   "source": []
  }
 ],
 "metadata": {
  "kernelspec": {
   "display_name": "Python 3 (ipykernel)",
   "language": "python",
   "name": "python3"
  },
  "language_info": {
   "codemirror_mode": {
    "name": "ipython",
    "version": 3
   },
   "file_extension": ".py",
   "mimetype": "text/x-python",
   "name": "python",
   "nbconvert_exporter": "python",
   "pygments_lexer": "ipython3",
   "version": "3.10.6"
  }
 },
 "nbformat": 4,
 "nbformat_minor": 5
}
